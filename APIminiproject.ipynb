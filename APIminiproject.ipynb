{
 "cells": [
  {
   "cell_type": "code",
   "execution_count": 2,
   "metadata": {},
   "outputs": [],
   "source": [
    "# First, import the relevant modules\n",
    "\n",
    "import requests"
   ]
  },
  {
   "cell_type": "code",
   "execution_count": 4,
   "metadata": {},
   "outputs": [],
   "source": [
    "API_KEY = ''"
   ]
  },
  {
   "cell_type": "code",
   "execution_count": 6,
   "metadata": {},
   "outputs": [],
   "source": [
    "url = 'https://www.quandl.com/api/v3/datasets/FSE/AFX_X.json?start_date=2019-07-23&end_date=2019-07-23&api_key = API_KEY' "
   ]
  },
  {
   "cell_type": "code",
   "execution_count": 8,
   "metadata": {},
   "outputs": [],
   "source": [
    "# Now, call the Quandl API and pull out a small sample of the data (only one day) to get a glimpse\n",
    "# into the JSON structure that will be returned\n",
    "r= requests.get(url)\n",
    "json_data = r.json()"
   ]
  },
  {
   "cell_type": "code",
   "execution_count": 10,
   "metadata": {},
   "outputs": [
    {
     "name": "stdout",
     "output_type": "stream",
     "text": [
      "JSON structure:\n",
      "{'dataset': {'id': 10095370, 'dataset_code': 'AFX_X', 'database_code': 'FSE', 'name': 'Carl Zeiss Meditec (AFX_X)', 'description': 'Stock Prices for Carl Zeiss Meditec (2019-07-17) from the Frankfurt Stock Exchange.<br><br>Trading System: Xetra<br><br>ISIN: DE0005313704', 'refreshed_at': '2019-07-31T22:20:12.302Z', 'newest_available_date': '2019-07-31', 'oldest_available_date': '2000-06-07', 'column_names': ['Date', 'Open', 'High', 'Low', 'Close', 'Change', 'Traded Volume', 'Turnover', 'Last Price of the Day', 'Daily Traded Units', 'Daily Turnover'], 'frequency': 'daily', 'type': 'Time Series', 'premium': False, 'limit': None, 'transform': None, 'column_index': None, 'start_date': '2019-07-23', 'end_date': '2019-07-23', 'data': [['2019-07-23', 97.2, 98.2, 97.05, 98.1, None, 91724.0, 8971253.0, None, None, None]], 'collapse': None, 'order': None, 'database_id': 6129}}\n",
      "\n",
      "One day data: \n",
      "[['2019-07-23', 97.2, 98.2, 97.05, 98.1, None, 91724.0, 8971253.0, None, None, None]]\n"
     ]
    }
   ],
   "source": [
    "# Inspect the JSON structure of the object you created, and take note of how nested it is,\n",
    "# as well as the overall structure\n",
    "\n",
    "print(\"JSON structure:\\n{}\".format(json_data))\n",
    "dataset_230719 = json_data['dataset']['data']\n",
    "print(\"\\nOne day data: \\n{}\".format(dataset_230719))"
   ]
  },
  {
   "cell_type": "code",
   "execution_count": 12,
   "metadata": {},
   "outputs": [],
   "source": [
    "# 1. Collect data from the Franfurt Stock Exchange, for the ticker AFX_X, for the whole year 2017\n",
    "url='https://www.quandl.com/api/v3/datasets/FSE/AFX_X.json?start_date=2017-01-01&end_date=2017-12-31&api_key='+API_KEY\n",
    "r= requests.get(url)"
   ]
  },
  {
   "cell_type": "code",
   "execution_count": 13,
   "metadata": {},
   "outputs": [
    {
     "name": "stdout",
     "output_type": "stream",
     "text": [
      "<class 'dict'>\n"
     ]
    }
   ],
   "source": [
    "# 2. Convert the returned JSON object into a Python dictionary.\n",
    "\n",
    "json_data = r.json()\n",
    "print(type(json_data))"
   ]
  },
  {
   "cell_type": "code",
   "execution_count": 14,
   "metadata": {},
   "outputs": [
    {
     "name": "stdout",
     "output_type": "stream",
     "text": [
      "Highest opening price: 53.11\n",
      "Lowest  opening price: 34.00\n"
     ]
    }
   ],
   "source": [
    "# 3. Calculate what the highest and lowest opening prices were for the stock in this period.\n",
    "\n",
    "data = json_data['dataset']['data']\n",
    "\n",
    "# All opening prices \n",
    "opening_prices = [item[1] for item in data if item[1] != None]\n",
    "\n",
    "# Sort opening prices\n",
    "opening_prices = sorted(opening_prices)\n",
    "\n",
    "# Highest opening price\n",
    "highest_opening_price = opening_prices[-1]\n",
    "print('Highest opening price: {}'.format(highest_opening_price))\n",
    "\n",
    "# lowest opening price\n",
    "lowest_opening_price = opening_prices[0]\n",
    "print('Lowest  opening price: {:.2f}'.format(lowest_opening_price))"
   ]
  },
  {
   "cell_type": "code",
   "execution_count": 16,
   "metadata": {},
   "outputs": [
    {
     "name": "stdout",
     "output_type": "stream",
     "text": [
      "Largest change in any one day: 2.8100000000000023\n"
     ]
    }
   ],
   "source": [
    "# 4. What was the largest change in any one day (based on High and Low price)?\n",
    "\n",
    "changes = [item[2] - item[3] for item in data] \n",
    "largest_change_in_any_one_day = sorted(changes, reverse=True)[0]\n",
    "print('Largest change in any one day: {}'.format(largest_change_in_any_one_day))"
   ]
  },
  {
   "cell_type": "code",
   "execution_count": 18,
   "metadata": {},
   "outputs": [
    {
     "name": "stdout",
     "output_type": "stream",
     "text": [
      "Largest change between any two days: 2.559999999999995\n"
     ]
    }
   ],
   "source": [
    "# 5. What was the largest change between any two days (based on Closing Price)?\n",
    "\n",
    "closing_price_changes =[data[i][4] - data[i-1][4] for i in range(1, len(data))] \n",
    "largest_change_between_two_days = sorted(closing_price_changes, reverse=True)[0]\n",
    "print('Largest change between any two days: {}'.format(largest_change_between_two_days))"
   ]
  },
  {
   "cell_type": "code",
   "execution_count": 19,
   "metadata": {},
   "outputs": [
    {
     "name": "stdout",
     "output_type": "stream",
     "text": [
      "Average daily trading volumn: 89124.33725490196\n"
     ]
    }
   ],
   "source": [
    "# 6. What was the average daily trading volume during this year?\n",
    "\n",
    "daily_trading_volumn = [item[6] for item in data if item[6] != None]\n",
    "\n",
    "average_daily_trading_volumn = sum(daily_trading_volumn) / len(daily_trading_volumn)\n",
    "print('Average daily trading volumn: {}'.format(average_daily_trading_volumn))"
   ]
  },
  {
   "cell_type": "code",
   "execution_count": 20,
   "metadata": {},
   "outputs": [
    {
     "name": "stdout",
     "output_type": "stream",
     "text": [
      "Median trading volume during this year(2017): 76286.0\n"
     ]
    }
   ],
   "source": [
    "# 7. (Optional) What was the median trading volume during this year. \n",
    "# (Note: you may need to implement your own function for calculating the median.)\n",
    "\n",
    "def m_median(data):\n",
    "    midx = len(data) // 2\n",
    "    result = sorted(data)[midx]\n",
    "    return result\n",
    "\n",
    "median_trading_volume = m_median(daily_trading_volumn)\n",
    "print('Median trading volume during this year(2017): {}'.format(median_trading_volume))"
   ]
  }
 ],
 "metadata": {
  "kernelspec": {
   "display_name": "Python 3",
   "language": "python",
   "name": "python3"
  },
  "language_info": {
   "codemirror_mode": {
    "name": "ipython",
    "version": 3
   },
   "file_extension": ".py",
   "mimetype": "text/x-python",
   "name": "python",
   "nbconvert_exporter": "python",
   "pygments_lexer": "ipython3",
   "version": "3.7.3"
  }
 },
 "nbformat": 4,
 "nbformat_minor": 2
}
